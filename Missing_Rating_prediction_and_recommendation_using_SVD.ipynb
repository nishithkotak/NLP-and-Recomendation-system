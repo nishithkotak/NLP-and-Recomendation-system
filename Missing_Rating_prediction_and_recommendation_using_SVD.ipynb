{
  "nbformat": 4,
  "nbformat_minor": 0,
  "metadata": {
    "colab": {
      "name": "Missing Rating prediction and recommendation using SVD.ipynb",
      "provenance": []
    },
    "kernelspec": {
      "name": "python3",
      "display_name": "Python 3"
    }
  },
  "cells": [
    {
      "cell_type": "code",
      "metadata": {
        "id": "tSRZks3dQLl6",
        "colab_type": "code",
        "colab": {}
      },
      "source": [
        "#http://nicolas-hug.com/blog/matrix_facto_4\n",
        "#https://nbviewer.jupyter.org/github/NicolasHug/nicolashug.github.io/blob/master/assets/mf_post/Matrix%20factorization%20algorithm.ipynb#"
      ],
      "execution_count": 0,
      "outputs": []
    },
    {
      "cell_type": "code",
      "metadata": {
        "id": "IMJw9kM0Qlxb",
        "colab_type": "code",
        "colab": {}
      },
      "source": [
        "import numpy as np\n",
        "import pandas as pd\n",
        "import matplotlib.pyplot as plt"
      ],
      "execution_count": 0,
      "outputs": []
    },
    {
      "cell_type": "code",
      "metadata": {
        "id": "0d1warKHQqhX",
        "colab_type": "code",
        "colab": {
          "base_uri": "https://localhost:8080/",
          "height": 120
        },
        "outputId": "de357984-dcbe-49ef-bb41-d38829fdb5b1"
      },
      "source": [
        "from google.colab import drive #toimport google drive data\n",
        "drive.mount('/content/drive') #to mount the drive data into colab cloud and enterr the activation code"
      ],
      "execution_count": 3,
      "outputs": [
        {
          "output_type": "stream",
          "text": [
            "Go to this URL in a browser: https://accounts.google.com/o/oauth2/auth?client_id=947318989803-6bn6qk8qdgf4n4g3pfee6491hc0brc4i.apps.googleusercontent.com&redirect_uri=urn%3aietf%3awg%3aoauth%3a2.0%3aoob&response_type=code&scope=email%20https%3a%2f%2fwww.googleapis.com%2fauth%2fdocs.test%20https%3a%2f%2fwww.googleapis.com%2fauth%2fdrive%20https%3a%2f%2fwww.googleapis.com%2fauth%2fdrive.photos.readonly%20https%3a%2f%2fwww.googleapis.com%2fauth%2fpeopleapi.readonly\n",
            "\n",
            "Enter your authorization code:\n",
            "··········\n",
            "Mounted at /content/drive\n"
          ],
          "name": "stdout"
        }
      ]
    },
    {
      "cell_type": "code",
      "metadata": {
        "id": "f46QBQbdQrQb",
        "colab_type": "code",
        "colab": {
          "base_uri": "https://localhost:8080/",
          "height": 33
        },
        "outputId": "8fa1b714-2e50-4f4c-e45a-da95cb486140"
      },
      "source": [
        "cd /content/drive/\"My Drive\""
      ],
      "execution_count": 4,
      "outputs": [
        {
          "output_type": "stream",
          "text": [
            "/content/drive/My Drive\n"
          ],
          "name": "stdout"
        }
      ]
    },
    {
      "cell_type": "code",
      "metadata": {
        "id": "kDvZTNwVQ8VT",
        "colab_type": "code",
        "colab": {}
      },
      "source": [
        "import zipfile\n",
        "zipfile = zipfile.ZipFile('NG Machine Learning/movielensrecommendation.zip', 'r')\n",
        "zipfile.extractall()\n",
        "zipfile.close()"
      ],
      "execution_count": 0,
      "outputs": []
    },
    {
      "cell_type": "code",
      "metadata": {
        "id": "oR5DyPWQQ_s5",
        "colab_type": "code",
        "colab": {}
      },
      "source": [
        "import zipfile\n",
        "zipfile = zipfile.ZipFile('NG Machine Learning/movielensrecommendation.zip', 'r')\n"
      ],
      "execution_count": 0,
      "outputs": []
    },
    {
      "cell_type": "code",
      "metadata": {
        "id": "h3nShxfsRETB",
        "colab_type": "code",
        "colab": {}
      },
      "source": [
        "with open('./ml-100k/u.data') as f:\n",
        "    all_lines = f.readlines()"
      ],
      "execution_count": 0,
      "outputs": []
    },
    {
      "cell_type": "code",
      "metadata": {
        "id": "OSqUU_7WRI64",
        "colab_type": "code",
        "colab": {
          "base_uri": "https://localhost:8080/",
          "height": 271
        },
        "outputId": "547ccf1c-7d05-44ab-a614-5e7d357d4462"
      },
      "source": [
        "pip install scikit-surprise"
      ],
      "execution_count": 11,
      "outputs": [
        {
          "output_type": "stream",
          "text": [
            "Collecting scikit-surprise\n",
            "\u001b[?25l  Downloading https://files.pythonhosted.org/packages/f5/da/b5700d96495fb4f092be497f02492768a3d96a3f4fa2ae7dea46d4081cfa/scikit-surprise-1.1.0.tar.gz (6.4MB)\n",
            "\u001b[K     |████████████████████████████████| 6.5MB 27.7MB/s \n",
            "\u001b[?25hRequirement already satisfied: joblib>=0.11 in /usr/local/lib/python3.6/dist-packages (from scikit-surprise) (0.14.1)\n",
            "Requirement already satisfied: numpy>=1.11.2 in /usr/local/lib/python3.6/dist-packages (from scikit-surprise) (1.17.5)\n",
            "Requirement already satisfied: scipy>=1.0.0 in /usr/local/lib/python3.6/dist-packages (from scikit-surprise) (1.4.1)\n",
            "Requirement already satisfied: six>=1.10.0 in /usr/local/lib/python3.6/dist-packages (from scikit-surprise) (1.12.0)\n",
            "Building wheels for collected packages: scikit-surprise\n",
            "  Building wheel for scikit-surprise (setup.py) ... \u001b[?25l\u001b[?25hdone\n",
            "  Created wheel for scikit-surprise: filename=scikit_surprise-1.1.0-cp36-cp36m-linux_x86_64.whl size=1678208 sha256=c8179b4a8fe0f0363e331a62b239bdb05a9ede66c61207bb441f296ff13d371d\n",
            "  Stored in directory: /root/.cache/pip/wheels/cc/fa/8c/16c93fccce688ae1bde7d979ff102f7bee980d9cfeb8641bcf\n",
            "Successfully built scikit-surprise\n",
            "Installing collected packages: scikit-surprise\n",
            "Successfully installed scikit-surprise-1.1.0\n"
          ],
          "name": "stdout"
        }
      ]
    },
    {
      "cell_type": "code",
      "metadata": {
        "id": "LwU9gLPjRLhT",
        "colab_type": "code",
        "colab": {}
      },
      "source": [
        "import zipfile\n",
        "from surprise import Reader, Dataset, SVD\n",
        "from surprise.model_selection import cross_validate"
      ],
      "execution_count": 0,
      "outputs": []
    },
    {
      "cell_type": "code",
      "metadata": {
        "id": "RPC6zKYORib1",
        "colab_type": "code",
        "colab": {}
      },
      "source": [
        "import surprise\n",
        "# Define the format\n",
        "reader = Reader(line_format='user item rating timestamp', sep='\\t')\n",
        "# Load the data from the file using the reader format\n",
        "data = Dataset.load_from_file('./ml-100k/u.data', reader=reader)"
      ],
      "execution_count": 0,
      "outputs": []
    },
    {
      "cell_type": "code",
      "metadata": {
        "id": "4k9Ir2GTSLP6",
        "colab_type": "code",
        "colab": {
          "base_uri": "https://localhost:8080/",
          "height": 161
        },
        "outputId": "71e5fe90-be51-4f9a-9fa3-bc136a8136a0"
      },
      "source": [
        "#data.split(2) ## split data for 2-folds cross validation"
      ],
      "execution_count": 18,
      "outputs": [
        {
          "output_type": "error",
          "ename": "AttributeError",
          "evalue": "ignored",
          "traceback": [
            "\u001b[0;31m---------------------------------------------------------------------------\u001b[0m",
            "\u001b[0;31mAttributeError\u001b[0m                            Traceback (most recent call last)",
            "\u001b[0;32m<ipython-input-18-bcbc76b3aa44>\u001b[0m in \u001b[0;36m<module>\u001b[0;34m()\u001b[0m\n\u001b[0;32m----> 1\u001b[0;31m \u001b[0mdata\u001b[0m\u001b[0;34m.\u001b[0m\u001b[0msplit\u001b[0m\u001b[0;34m(\u001b[0m\u001b[0;36m2\u001b[0m\u001b[0;34m)\u001b[0m\u001b[0;34m\u001b[0m\u001b[0;34m\u001b[0m\u001b[0m\n\u001b[0m",
            "\u001b[0;31mAttributeError\u001b[0m: 'DatasetAutoFolds' object has no attribute 'split'"
          ]
        }
      ]
    },
    {
      "cell_type": "code",
      "metadata": {
        "id": "PJ9Xg4sNRk2g",
        "colab_type": "code",
        "colab": {}
      },
      "source": [
        "#Matrix factorization with Stochastic Gradient Descent Algorithm\n",
        "class MatrixFacto(surprise.AlgoBase):\n",
        "    '''A basic rating prediction algorithm based on matrix factorization.'''\n",
        "    \n",
        "    def __init__(self, learning_rate, n_epochs, n_factors):\n",
        "        \n",
        "        self.lr = learning_rate  # learning rate for SGD\n",
        "        self.n_epochs = n_epochs  # number of iterations of SGD\n",
        "        self.n_factors = n_factors  # number of factors\n",
        "        \n",
        "    def fit(self, trainset):\n",
        "        '''Learn the vectors p_u and q_i with SGD'''\n",
        "        \n",
        "        print('Fitting data with SGD...')\n",
        "        \n",
        "        # Randomly initialize the user and item factors.\n",
        "        p = np.random.normal(0, .1, (trainset.n_users, self.n_factors))\n",
        "        q = np.random.normal(0, .1, (trainset.n_items, self.n_factors))\n",
        "        \n",
        "        # SGD procedure\n",
        "        for _ in range(self.n_epochs):\n",
        "            for u, i, r_ui in trainset.all_ratings():\n",
        "                err = r_ui - np.dot(p[u], q[i])\n",
        "                # Update vectors p_u and q_i\n",
        "                p[u] += self.lr * err * q[i]\n",
        "                q[i] += self.lr * err * p[u]\n",
        "                # Note: in the update of q_i, we should actually use the previous (non-updated) value of p_u.\n",
        "                # In practice it makes almost no difference.\n",
        "        \n",
        "        self.p, self.q = p, q\n",
        "        self.trainset = trainset\n",
        "\n",
        "    def estimate(self, u, i):\n",
        "        '''Return the estmimated rating of user u for item i.'''\n",
        "        \n",
        "        # return scalar product between p_u and q_i if user and item are known,\n",
        "        # else return the average of all ratings\n",
        "        if self.trainset.knows_user(u) and self.trainset.knows_item(i):\n",
        "            return np.dot(self.p[u], self.q[i])\n",
        "        else:\n",
        "            return self.trainset.global_mean"
      ],
      "execution_count": 0,
      "outputs": []
    },
    {
      "cell_type": "code",
      "metadata": {
        "id": "FDOxUnZnR4eP",
        "colab_type": "code",
        "colab": {}
      },
      "source": [
        "algo = MatrixFacto(learning_rate=.01, n_epochs=10, n_factors=10)\n",
        "#surprise.evaluate(algo, data, measures=['RMSE'])"
      ],
      "execution_count": 0,
      "outputs": []
    },
    {
      "cell_type": "code",
      "metadata": {
        "id": "rPcef_M8SWa0",
        "colab_type": "code",
        "colab": {
          "base_uri": "https://localhost:8080/",
          "height": 418
        },
        "outputId": "028b9ad1-d3f9-451d-e226-4ef579e0da16"
      },
      "source": [
        "cross_validate(algo, data, measures=['RMSE', 'MAE'], cv=5, verbose=True)"
      ],
      "execution_count": 21,
      "outputs": [
        {
          "output_type": "stream",
          "text": [
            "Fitting data with SGD...\n",
            "Fitting data with SGD...\n",
            "Fitting data with SGD...\n",
            "Fitting data with SGD...\n",
            "Fitting data with SGD...\n",
            "Evaluating RMSE, MAE of algorithm MatrixFacto on 5 split(s).\n",
            "\n",
            "                  Fold 1  Fold 2  Fold 3  Fold 4  Fold 5  Mean    Std     \n",
            "RMSE (testset)    0.9622  0.9605  0.9554  0.9581  0.9550  0.9582  0.0028  \n",
            "MAE (testset)     0.7524  0.7541  0.7500  0.7525  0.7492  0.7516  0.0018  \n",
            "Fit time          7.96    7.83    7.93    7.97    7.91    7.92    0.05    \n",
            "Test time         0.24    0.16    0.17    0.23    0.16    0.19    0.03    \n"
          ],
          "name": "stdout"
        },
        {
          "output_type": "execute_result",
          "data": {
            "text/plain": [
              "{'fit_time': (7.964536905288696,\n",
              "  7.826776027679443,\n",
              "  7.928162097930908,\n",
              "  7.970513105392456,\n",
              "  7.911818981170654),\n",
              " 'test_mae': array([0.7523847 , 0.75407795, 0.74998804, 0.7525041 , 0.74923327]),\n",
              " 'test_rmse': array([0.96221154, 0.96049424, 0.95538804, 0.95811273, 0.95501013]),\n",
              " 'test_time': (0.2417893409729004,\n",
              "  0.16097378730773926,\n",
              "  0.17203593254089355,\n",
              "  0.22514605522155762,\n",
              "  0.1581130027770996)}"
            ]
          },
          "metadata": {
            "tags": []
          },
          "execution_count": 21
        }
      ]
    },
    {
      "cell_type": "code",
      "metadata": {
        "id": "mypzND5HS1Ip",
        "colab_type": "code",
        "colab": {
          "base_uri": "https://localhost:8080/",
          "height": 502
        },
        "outputId": "2c68b24b-66f6-499c-a137-390505362e4a"
      },
      "source": [
        "# try a neighborhood-based algorithm (on the same data)\n",
        "algo = surprise.KNNBasic()\n",
        "cross_validate(algo, data, measures=['RMSE', 'MAE'], cv=5, verbose=True)\n",
        "#surprise.evaluate(algo, data, measures=['RMSE'])"
      ],
      "execution_count": 22,
      "outputs": [
        {
          "output_type": "stream",
          "text": [
            "Computing the msd similarity matrix...\n",
            "Done computing similarity matrix.\n",
            "Computing the msd similarity matrix...\n",
            "Done computing similarity matrix.\n",
            "Computing the msd similarity matrix...\n",
            "Done computing similarity matrix.\n",
            "Computing the msd similarity matrix...\n",
            "Done computing similarity matrix.\n",
            "Computing the msd similarity matrix...\n",
            "Done computing similarity matrix.\n",
            "Evaluating RMSE, MAE of algorithm KNNBasic on 5 split(s).\n",
            "\n",
            "                  Fold 1  Fold 2  Fold 3  Fold 4  Fold 5  Mean    Std     \n",
            "RMSE (testset)    0.9719  0.9729  0.9851  0.9763  0.9839  0.9780  0.0055  \n",
            "MAE (testset)     0.7680  0.7685  0.7763  0.7722  0.7774  0.7725  0.0039  \n",
            "Fit time          0.38    0.46    0.50    0.38    0.38    0.42    0.05    \n",
            "Test time         3.99    4.23    3.90    3.74    3.86    3.94    0.17    \n"
          ],
          "name": "stdout"
        },
        {
          "output_type": "execute_result",
          "data": {
            "text/plain": [
              "{'fit_time': (0.3794243335723877,\n",
              "  0.4579319953918457,\n",
              "  0.4986135959625244,\n",
              "  0.38092041015625,\n",
              "  0.37808871269226074),\n",
              " 'test_mae': array([0.7680022 , 0.76853984, 0.77631013, 0.77224727, 0.77742594]),\n",
              " 'test_rmse': array([0.97188119, 0.97292111, 0.98506199, 0.97627668, 0.9838833 ]),\n",
              " 'test_time': (3.9901368618011475,\n",
              "  4.234817266464233,\n",
              "  3.896660327911377,\n",
              "  3.7391321659088135,\n",
              "  3.857728958129883)}"
            ]
          },
          "metadata": {
            "tags": []
          },
          "execution_count": 22
        }
      ]
    },
    {
      "cell_type": "code",
      "metadata": {
        "id": "IDFfHT2cSbup",
        "colab_type": "code",
        "colab": {
          "base_uri": "https://localhost:8080/",
          "height": 334
        },
        "outputId": "893ad560-4c51-436d-ac72-1e4af440b094"
      },
      "source": [
        "algo = surprise.SVD()\n",
        "#surprise.evaluate(algo, data, measures=['RMSE'])\n",
        "cross_validate(algo, data, measures=['RMSE', 'MAE'], cv=5, verbose=True)"
      ],
      "execution_count": 23,
      "outputs": [
        {
          "output_type": "stream",
          "text": [
            "Evaluating RMSE, MAE of algorithm SVD on 5 split(s).\n",
            "\n",
            "                  Fold 1  Fold 2  Fold 3  Fold 4  Fold 5  Mean    Std     \n",
            "RMSE (testset)    0.9262  0.9381  0.9374  0.9433  0.9353  0.9361  0.0056  \n",
            "MAE (testset)     0.7325  0.7372  0.7385  0.7447  0.7394  0.7385  0.0039  \n",
            "Fit time          5.21    5.04    5.15    5.14    5.27    5.16    0.08    \n",
            "Test time         0.15    0.23    0.15    0.23    0.15    0.18    0.04    \n"
          ],
          "name": "stdout"
        },
        {
          "output_type": "execute_result",
          "data": {
            "text/plain": [
              "{'fit_time': (5.21277642250061,\n",
              "  5.040224075317383,\n",
              "  5.152867078781128,\n",
              "  5.1371543407440186,\n",
              "  5.266265153884888),\n",
              " 'test_mae': array([0.73249387, 0.73721321, 0.73852346, 0.74474669, 0.7393524 ]),\n",
              " 'test_rmse': array([0.92621299, 0.93810554, 0.93737752, 0.94327793, 0.93528045]),\n",
              " 'test_time': (0.15432286262512207,\n",
              "  0.22827601432800293,\n",
              "  0.14520692825317383,\n",
              "  0.22563767433166504,\n",
              "  0.1518082618713379)}"
            ]
          },
          "metadata": {
            "tags": []
          },
          "execution_count": 23
        }
      ]
    },
    {
      "cell_type": "code",
      "metadata": {
        "id": "jXBGxxYsTf6i",
        "colab_type": "code",
        "colab": {}
      },
      "source": [
        ""
      ],
      "execution_count": 0,
      "outputs": []
    }
  ]
}