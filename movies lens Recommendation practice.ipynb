{
  "nbformat": 4,
  "nbformat_minor": 0,
  "metadata": {
    "colab": {
      "name": "Recommendation.ipynb",
      "provenance": []
    },
    "kernelspec": {
      "name": "python3",
      "display_name": "Python 3"
    }
  },
  "cells": [
    {
      "cell_type": "code",
      "metadata": {
        "id": "-LUN5np1sIpu",
        "colab_type": "code",
        "colab": {}
      },
      "source": [
        "#https://medium.com/@m_n_malaeb/singular-value-decomposition-svd-in-recommender-systems-for-non-math-statistics-programming-4a622de653e9\n",
        "#https://medium.com/@m_n_malaeb/the-easy-guide-for-building-python-collaborative-filtering-recommendation-system-in-2017-d2736d2e92a8\n",
        "#https://surprise.readthedocs.io/en/stable/getting_started.html"
      ],
      "execution_count": 0,
      "outputs": []
    },
    {
      "cell_type": "code",
      "metadata": {
        "id": "7hLjyb4SshOp",
        "colab_type": "code",
        "colab": {}
      },
      "source": [
        "import numpy as np\n",
        "import pandas as pd\n",
        "import matplotlib.pyplot as plt"
      ],
      "execution_count": 0,
      "outputs": []
    },
    {
      "cell_type": "code",
      "metadata": {
        "id": "VV8aWC1jtA68",
        "colab_type": "code",
        "colab": {
          "base_uri": "https://localhost:8080/",
          "height": 120
        },
        "outputId": "0834b771-a320-41f9-8f2e-17625e32ece1"
      },
      "source": [
        "from google.colab import drive #toimport google drive data\n",
        "drive.mount('/content/drive') #to mount the drive data into colab cloud and enterr the activation code"
      ],
      "execution_count": 3,
      "outputs": [
        {
          "output_type": "stream",
          "text": [
            "Go to this URL in a browser: https://accounts.google.com/o/oauth2/auth?client_id=947318989803-6bn6qk8qdgf4n4g3pfee6491hc0brc4i.apps.googleusercontent.com&redirect_uri=urn%3aietf%3awg%3aoauth%3a2.0%3aoob&response_type=code&scope=email%20https%3a%2f%2fwww.googleapis.com%2fauth%2fdocs.test%20https%3a%2f%2fwww.googleapis.com%2fauth%2fdrive%20https%3a%2f%2fwww.googleapis.com%2fauth%2fdrive.photos.readonly%20https%3a%2f%2fwww.googleapis.com%2fauth%2fpeopleapi.readonly\n",
            "\n",
            "Enter your authorization code:\n",
            "··········\n",
            "Mounted at /content/drive\n"
          ],
          "name": "stdout"
        }
      ]
    },
    {
      "cell_type": "code",
      "metadata": {
        "id": "DeEFpO7rtFCO",
        "colab_type": "code",
        "colab": {
          "base_uri": "https://localhost:8080/",
          "height": 33
        },
        "outputId": "5ca1bf35-c2bd-4c6c-a18d-a115bc6c2143"
      },
      "source": [
        "cd /content/drive/\"My Drive\""
      ],
      "execution_count": 4,
      "outputs": [
        {
          "output_type": "stream",
          "text": [
            "/content/drive/My Drive\n"
          ],
          "name": "stdout"
        }
      ]
    },
    {
      "cell_type": "code",
      "metadata": {
        "id": "dDP1XihLtLyq",
        "colab_type": "code",
        "colab": {}
      },
      "source": [
        "import zipfile\n",
        "zipfile = zipfile.ZipFile('NG Machine Learning/movielensrecommendation.zip', 'r')\n",
        "zipfile.extractall()\n",
        "zipfile.close()"
      ],
      "execution_count": 0,
      "outputs": []
    },
    {
      "cell_type": "code",
      "metadata": {
        "id": "hEGBfl31tqlZ",
        "colab_type": "code",
        "colab": {}
      },
      "source": [
        "import zipfile\n",
        "zipfile = zipfile.ZipFile('NG Machine Learning/movielensrecommendation.zip', 'r')\n"
      ],
      "execution_count": 0,
      "outputs": []
    },
    {
      "cell_type": "code",
      "metadata": {
        "id": "E0NKz3Wg-IZS",
        "colab_type": "code",
        "colab": {
          "base_uri": "https://localhost:8080/",
          "height": 33
        },
        "outputId": "45458f75-c37a-4255-c2fa-407ff5c89882"
      },
      "source": [
        "zipfile"
      ],
      "execution_count": 36,
      "outputs": [
        {
          "output_type": "execute_result",
          "data": {
            "text/plain": [
              "<zipfile.ZipFile filename='NG Machine Learning/movielensrecommendation.zip' mode='r'>"
            ]
          },
          "metadata": {
            "tags": []
          },
          "execution_count": 36
        }
      ]
    },
    {
      "cell_type": "code",
      "metadata": {
        "id": "Fe6gmSPztuBG",
        "colab_type": "code",
        "colab": {
          "base_uri": "https://localhost:8080/",
          "height": 271
        },
        "outputId": "acc72184-347e-4bd4-e526-374c8ec93941"
      },
      "source": [
        "pip install scikit-surprise"
      ],
      "execution_count": 16,
      "outputs": [
        {
          "output_type": "stream",
          "text": [
            "Collecting scikit-surprise\n",
            "\u001b[?25l  Downloading https://files.pythonhosted.org/packages/f5/da/b5700d96495fb4f092be497f02492768a3d96a3f4fa2ae7dea46d4081cfa/scikit-surprise-1.1.0.tar.gz (6.4MB)\n",
            "\u001b[K     |████████████████████████████████| 6.5MB 4.3MB/s \n",
            "\u001b[?25hRequirement already satisfied: joblib>=0.11 in /usr/local/lib/python3.6/dist-packages (from scikit-surprise) (0.14.1)\n",
            "Requirement already satisfied: numpy>=1.11.2 in /usr/local/lib/python3.6/dist-packages (from scikit-surprise) (1.17.5)\n",
            "Requirement already satisfied: scipy>=1.0.0 in /usr/local/lib/python3.6/dist-packages (from scikit-surprise) (1.4.1)\n",
            "Requirement already satisfied: six>=1.10.0 in /usr/local/lib/python3.6/dist-packages (from scikit-surprise) (1.12.0)\n",
            "Building wheels for collected packages: scikit-surprise\n",
            "  Building wheel for scikit-surprise (setup.py) ... \u001b[?25l\u001b[?25hdone\n",
            "  Created wheel for scikit-surprise: filename=scikit_surprise-1.1.0-cp36-cp36m-linux_x86_64.whl size=1678241 sha256=022e79e5b85a60b86c5af0174ad07de1898a4679bebbbe286f7119a36fd68a9c\n",
            "  Stored in directory: /root/.cache/pip/wheels/cc/fa/8c/16c93fccce688ae1bde7d979ff102f7bee980d9cfeb8641bcf\n",
            "Successfully built scikit-surprise\n",
            "Installing collected packages: scikit-surprise\n",
            "Successfully installed scikit-surprise-1.1.0\n"
          ],
          "name": "stdout"
        }
      ]
    },
    {
      "cell_type": "code",
      "metadata": {
        "id": "ARTh4uvit_i2",
        "colab_type": "code",
        "colab": {}
      },
      "source": [
        "import zipfile\n",
        "from surprise import Reader, Dataset, SVD\n",
        "from surprise.model_selection import cross_validate"
      ],
      "execution_count": 0,
      "outputs": []
    },
    {
      "cell_type": "code",
      "metadata": {
        "id": "E-iEFp5q34OO",
        "colab_type": "code",
        "colab": {}
      },
      "source": [
        "with open('./ml-100k/u.data') as f:\n",
        "    all_lines = f.readlines()"
      ],
      "execution_count": 0,
      "outputs": []
    },
    {
      "cell_type": "code",
      "metadata": {
        "id": "HBOjIZc14AF8",
        "colab_type": "code",
        "colab": {}
      },
      "source": [
        "all_lines"
      ],
      "execution_count": 0,
      "outputs": []
    },
    {
      "cell_type": "code",
      "metadata": {
        "id": "kzET9OWc9yCW",
        "colab_type": "code",
        "colab": {}
      },
      "source": [
        "# Define the format\n",
        "reader = Reader(line_format='user item rating timestamp', sep='\\t')\n",
        "# Load the data from the file using the reader format\n",
        "data = Dataset.load_from_file('./ml-100k/u.data', reader=reader)"
      ],
      "execution_count": 0,
      "outputs": []
    },
    {
      "cell_type": "code",
      "metadata": {
        "id": "pF5kk0hjCiTX",
        "colab_type": "code",
        "colab": {}
      },
      "source": [
        "algo = SVD()"
      ],
      "execution_count": 0,
      "outputs": []
    },
    {
      "cell_type": "code",
      "metadata": {
        "id": "Z_T6WafdEPBt",
        "colab_type": "code",
        "colab": {
          "base_uri": "https://localhost:8080/",
          "height": 334
        },
        "outputId": "7479d2e7-a3ad-4d6e-e478-21004845f14f"
      },
      "source": [
        "cross_validate(algo, data, measures=['RMSE', 'MAE'], cv=5, verbose=True)"
      ],
      "execution_count": 64,
      "outputs": [
        {
          "output_type": "stream",
          "text": [
            "Evaluating RMSE, MAE of algorithm SVD on 5 split(s).\n",
            "\n",
            "                  Fold 1  Fold 2  Fold 3  Fold 4  Fold 5  Mean    Std     \n",
            "RMSE (testset)    0.9375  0.9295  0.9344  0.9404  0.9377  0.9359  0.0037  \n",
            "MAE (testset)     0.7398  0.7336  0.7358  0.7426  0.7391  0.7382  0.0031  \n",
            "Fit time          5.29    4.96    5.21    5.17    5.02    5.13    0.12    \n",
            "Test time         0.23    0.16    0.23    0.14    0.21    0.20    0.04    \n"
          ],
          "name": "stdout"
        },
        {
          "output_type": "execute_result",
          "data": {
            "text/plain": [
              "{'fit_time': (5.287731885910034,\n",
              "  4.957995891571045,\n",
              "  5.206655263900757,\n",
              "  5.1739420890808105,\n",
              "  5.022026777267456),\n",
              " 'test_mae': array([0.73978112, 0.73362813, 0.73577355, 0.74256761, 0.73907972]),\n",
              " 'test_rmse': array([0.9375106 , 0.92952187, 0.93439508, 0.94041611, 0.93768276]),\n",
              " 'test_time': (0.2316427230834961,\n",
              "  0.15904831886291504,\n",
              "  0.22997689247131348,\n",
              "  0.14413237571716309,\n",
              "  0.21142292022705078)}"
            ]
          },
          "metadata": {
            "tags": []
          },
          "execution_count": 64
        }
      ]
    },
    {
      "cell_type": "code",
      "metadata": {
        "id": "J4CofigzEP3P",
        "colab_type": "code",
        "colab": {
          "base_uri": "https://localhost:8080/",
          "height": 67
        },
        "outputId": "8d6bf471-1988-423d-ba2c-acdd208baebd"
      },
      "source": [
        "# Retrieve the trainset.\n",
        "from surprise import Dataset\n",
        "from surprise import KNNBasic\n",
        "# Load the movielens-100k dataset\n",
        "data = Dataset.load_builtin('ml-100k')\n",
        "\n",
        "# Retrieve the trainset.\n",
        "trainset = data.build_full_trainset()\n",
        "\n",
        "# Build an algorithm, and train it.\n",
        "algo = KNNBasic()\n",
        "algo.fit(trainset)\n"
      ],
      "execution_count": 68,
      "outputs": [
        {
          "output_type": "stream",
          "text": [
            "Computing the msd similarity matrix...\n",
            "Done computing similarity matrix.\n"
          ],
          "name": "stdout"
        },
        {
          "output_type": "execute_result",
          "data": {
            "text/plain": [
              "<surprise.prediction_algorithms.knns.KNNBasic at 0x7ff891f9a080>"
            ]
          },
          "metadata": {
            "tags": []
          },
          "execution_count": 68
        }
      ]
    },
    {
      "cell_type": "code",
      "metadata": {
        "id": "2VBC2Y5DErai",
        "colab_type": "code",
        "colab": {
          "base_uri": "https://localhost:8080/",
          "height": 33
        },
        "outputId": "2781dbab-be0e-45f8-8d8b-c3b3eaada020"
      },
      "source": [
        "uid = str(196)  # raw user id (as in the ratings file). They are **strings**!\n",
        "iid = str(302)  # raw item id (as in the ratings file). They are **strings**!\n",
        "\n",
        "# get a prediction for specific users and items.\n",
        "pred = algo.predict(uid, iid, r_ui=4, verbose=True)"
      ],
      "execution_count": 70,
      "outputs": [
        {
          "output_type": "stream",
          "text": [
            "user: 196        item: 302        r_ui = 4.00   est = 4.06   {'actual_k': 40, 'was_impossible': False}\n"
          ],
          "name": "stdout"
        }
      ]
    },
    {
      "cell_type": "code",
      "metadata": {
        "id": "mHXzZVX3FoXs",
        "colab_type": "code",
        "colab": {}
      },
      "source": [
        ""
      ],
      "execution_count": 0,
      "outputs": []
    }
  ]
}